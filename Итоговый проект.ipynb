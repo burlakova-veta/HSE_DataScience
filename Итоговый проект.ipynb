{
  "nbformat": 4,
  "nbformat_minor": 0,
  "metadata": {
    "colab": {
      "provenance": []
    },
    "kernelspec": {
      "name": "python3",
      "display_name": "Python 3"
    },
    "language_info": {
      "name": "python"
    }
  },
  "cells": [
    {
      "cell_type": "markdown",
      "source": [
        "Итоговый проект"
      ],
      "metadata": {
        "id": "kRA0EPJ2NgW7"
      }
    },
    {
      "cell_type": "markdown",
      "source": [
        "Импорт библиотек"
      ],
      "metadata": {
        "id": "JPd_uAkmNmOZ"
      }
    },
    {
      "cell_type": "code",
      "source": [
        "import pandas as pd\n",
        "import numpy as np\n",
        "import matplotlib.pyplot as plt\n",
        "import scipy\n",
        "from seaborn import load_dataset\n",
        "import seaborn as sns\n",
        "\n",
        "%matplotlib inline"
      ],
      "metadata": {
        "id": "AqbvW2IwNlaa"
      },
      "execution_count": null,
      "outputs": []
    },
    {
      "cell_type": "markdown",
      "source": [
        "Загружаем файл diamonds.csv в DataFrame pandas"
      ],
      "metadata": {
        "id": "Voo_K2XjN6PE"
      }
    },
    {
      "cell_type": "code",
      "source": [
        "df = pd.read_csv('diamonds.csv')"
      ],
      "metadata": {
        "id": "qzpeM8R0O7in"
      },
      "execution_count": null,
      "outputs": []
    },
    {
      "cell_type": "markdown",
      "source": [
        "# Новый раздел"
      ],
      "metadata": {
        "id": "zqz-LhALr9hk"
      }
    },
    {
      "cell_type": "markdown",
      "source": [
        "Согласно исходному описанию файла, в датасете должны присутствовать признаки:\n",
        "\n",
        "fluor - флуоресценция (свойство камня светиться под ультрафиолетом)\n",
        "\n",
        "symmetry - индикатор симметрии\n",
        "\n",
        "platform - название платформы, на которой был установлен драгоценный камень\n",
        "\n",
        "shape - фигура\n",
        "\n",
        "color - цвет\n",
        "\n",
        "clarity - прозрачность\n",
        "\n",
        "cut - качество огранки (может быть только для круглых камней)\n",
        "\n",
        "polish - полировка\n",
        "\n",
        "id - номер драгоценного камня\n",
        "\n",
        "date - дата\n",
        "\n",
        "price - цена\n",
        "\n",
        "carat - количество каратов\n",
        "\n",
        "price_per_carat - цена за карат\n",
        "\n",
        "z - длина (диаметр)\n",
        "\n",
        "x - ширина\n",
        "\n",
        "depth_perc - соотношение высоты и ширины\n",
        "\n",
        "y - высота\n",
        "\n",
        "Необходимо спрогнозировать price_per_carat"
      ],
      "metadata": {
        "id": "PslMNJX8YQ0J"
      }
    },
    {
      "cell_type": "markdown",
      "source": [
        "Посмотрим, что в действительности хранится в файле с помощью метода .head(), который по умолчанию выводит пять первых строк"
      ],
      "metadata": {
        "id": "cli3WVdCO_OF"
      }
    },
    {
      "cell_type": "code",
      "source": [
        "df.head()"
      ],
      "metadata": {
        "colab": {
          "base_uri": "https://localhost:8080/",
          "height": 244
        },
        "id": "QjquwDsRPqYg",
        "outputId": "e60adf26-ab66-4bd8-d95d-561489ee28ac"
      },
      "execution_count": null,
      "outputs": [
        {
          "output_type": "execute_result",
          "data": {
            "text/plain": [
              "   Unnamed: 0 fluor symmetry    platform shape color clarity  cut polish  \\\n",
              "0      135269  NONE       EX  jamesallen    PS     F     SI1  NaN     EX   \n",
              "1       48477   MED       EX  jamesallen    RD     H    VVS2   EX     EX   \n",
              "2      236786  NONE       EX  jamesallen    EM     H      IF  NaN     EX   \n",
              "3      235781  NONE       EX  jamesallen    RD     E     VS2   EX     EX   \n",
              "4      277744  NONE       VG  jamesallen    RD     F     VS1   VG     EX   \n",
              "\n",
              "         id    date    price  carat  price_per_carat      z     x  depth_perc  \\\n",
              "0  13870838  202206  12850.0   1.55          8290.32  10.29  6.41        62.0   \n",
              "1  11725253  202207   7510.0   1.02          7362.75   6.41  6.45        62.5   \n",
              "2  14444347  202205  21220.0   2.01         10557.21   8.60  6.37        65.0   \n",
              "3  14438434  202207   8660.0   1.00          8660.00   6.39  6.44        61.4   \n",
              "4  14615276  202206   8480.0   1.00          8480.00   6.28  6.36        62.3   \n",
              "\n",
              "         y  \n",
              "0  3.97420  \n",
              "1  4.03125  \n",
              "2  4.14050  \n",
              "3  3.95416  \n",
              "4  3.96228  "
            ],
            "text/html": [
              "\n",
              "  <div id=\"df-92cafcdc-800a-4b20-ad91-0b65d58e7538\" class=\"colab-df-container\">\n",
              "    <div>\n",
              "<style scoped>\n",
              "    .dataframe tbody tr th:only-of-type {\n",
              "        vertical-align: middle;\n",
              "    }\n",
              "\n",
              "    .dataframe tbody tr th {\n",
              "        vertical-align: top;\n",
              "    }\n",
              "\n",
              "    .dataframe thead th {\n",
              "        text-align: right;\n",
              "    }\n",
              "</style>\n",
              "<table border=\"1\" class=\"dataframe\">\n",
              "  <thead>\n",
              "    <tr style=\"text-align: right;\">\n",
              "      <th></th>\n",
              "      <th>Unnamed: 0</th>\n",
              "      <th>fluor</th>\n",
              "      <th>symmetry</th>\n",
              "      <th>platform</th>\n",
              "      <th>shape</th>\n",
              "      <th>color</th>\n",
              "      <th>clarity</th>\n",
              "      <th>cut</th>\n",
              "      <th>polish</th>\n",
              "      <th>id</th>\n",
              "      <th>date</th>\n",
              "      <th>price</th>\n",
              "      <th>carat</th>\n",
              "      <th>price_per_carat</th>\n",
              "      <th>z</th>\n",
              "      <th>x</th>\n",
              "      <th>depth_perc</th>\n",
              "      <th>y</th>\n",
              "    </tr>\n",
              "  </thead>\n",
              "  <tbody>\n",
              "    <tr>\n",
              "      <th>0</th>\n",
              "      <td>135269</td>\n",
              "      <td>NONE</td>\n",
              "      <td>EX</td>\n",
              "      <td>jamesallen</td>\n",
              "      <td>PS</td>\n",
              "      <td>F</td>\n",
              "      <td>SI1</td>\n",
              "      <td>NaN</td>\n",
              "      <td>EX</td>\n",
              "      <td>13870838</td>\n",
              "      <td>202206</td>\n",
              "      <td>12850.0</td>\n",
              "      <td>1.55</td>\n",
              "      <td>8290.32</td>\n",
              "      <td>10.29</td>\n",
              "      <td>6.41</td>\n",
              "      <td>62.0</td>\n",
              "      <td>3.97420</td>\n",
              "    </tr>\n",
              "    <tr>\n",
              "      <th>1</th>\n",
              "      <td>48477</td>\n",
              "      <td>MED</td>\n",
              "      <td>EX</td>\n",
              "      <td>jamesallen</td>\n",
              "      <td>RD</td>\n",
              "      <td>H</td>\n",
              "      <td>VVS2</td>\n",
              "      <td>EX</td>\n",
              "      <td>EX</td>\n",
              "      <td>11725253</td>\n",
              "      <td>202207</td>\n",
              "      <td>7510.0</td>\n",
              "      <td>1.02</td>\n",
              "      <td>7362.75</td>\n",
              "      <td>6.41</td>\n",
              "      <td>6.45</td>\n",
              "      <td>62.5</td>\n",
              "      <td>4.03125</td>\n",
              "    </tr>\n",
              "    <tr>\n",
              "      <th>2</th>\n",
              "      <td>236786</td>\n",
              "      <td>NONE</td>\n",
              "      <td>EX</td>\n",
              "      <td>jamesallen</td>\n",
              "      <td>EM</td>\n",
              "      <td>H</td>\n",
              "      <td>IF</td>\n",
              "      <td>NaN</td>\n",
              "      <td>EX</td>\n",
              "      <td>14444347</td>\n",
              "      <td>202205</td>\n",
              "      <td>21220.0</td>\n",
              "      <td>2.01</td>\n",
              "      <td>10557.21</td>\n",
              "      <td>8.60</td>\n",
              "      <td>6.37</td>\n",
              "      <td>65.0</td>\n",
              "      <td>4.14050</td>\n",
              "    </tr>\n",
              "    <tr>\n",
              "      <th>3</th>\n",
              "      <td>235781</td>\n",
              "      <td>NONE</td>\n",
              "      <td>EX</td>\n",
              "      <td>jamesallen</td>\n",
              "      <td>RD</td>\n",
              "      <td>E</td>\n",
              "      <td>VS2</td>\n",
              "      <td>EX</td>\n",
              "      <td>EX</td>\n",
              "      <td>14438434</td>\n",
              "      <td>202207</td>\n",
              "      <td>8660.0</td>\n",
              "      <td>1.00</td>\n",
              "      <td>8660.00</td>\n",
              "      <td>6.39</td>\n",
              "      <td>6.44</td>\n",
              "      <td>61.4</td>\n",
              "      <td>3.95416</td>\n",
              "    </tr>\n",
              "    <tr>\n",
              "      <th>4</th>\n",
              "      <td>277744</td>\n",
              "      <td>NONE</td>\n",
              "      <td>VG</td>\n",
              "      <td>jamesallen</td>\n",
              "      <td>RD</td>\n",
              "      <td>F</td>\n",
              "      <td>VS1</td>\n",
              "      <td>VG</td>\n",
              "      <td>EX</td>\n",
              "      <td>14615276</td>\n",
              "      <td>202206</td>\n",
              "      <td>8480.0</td>\n",
              "      <td>1.00</td>\n",
              "      <td>8480.00</td>\n",
              "      <td>6.28</td>\n",
              "      <td>6.36</td>\n",
              "      <td>62.3</td>\n",
              "      <td>3.96228</td>\n",
              "    </tr>\n",
              "  </tbody>\n",
              "</table>\n",
              "</div>\n",
              "    <div class=\"colab-df-buttons\">\n",
              "\n",
              "  <div class=\"colab-df-container\">\n",
              "    <button class=\"colab-df-convert\" onclick=\"convertToInteractive('df-92cafcdc-800a-4b20-ad91-0b65d58e7538')\"\n",
              "            title=\"Convert this dataframe to an interactive table.\"\n",
              "            style=\"display:none;\">\n",
              "\n",
              "  <svg xmlns=\"http://www.w3.org/2000/svg\" height=\"24px\" viewBox=\"0 -960 960 960\">\n",
              "    <path d=\"M120-120v-720h720v720H120Zm60-500h600v-160H180v160Zm220 220h160v-160H400v160Zm0 220h160v-160H400v160ZM180-400h160v-160H180v160Zm440 0h160v-160H620v160ZM180-180h160v-160H180v160Zm440 0h160v-160H620v160Z\"/>\n",
              "  </svg>\n",
              "    </button>\n",
              "\n",
              "  <style>\n",
              "    .colab-df-container {\n",
              "      display:flex;\n",
              "      gap: 12px;\n",
              "    }\n",
              "\n",
              "    .colab-df-convert {\n",
              "      background-color: #E8F0FE;\n",
              "      border: none;\n",
              "      border-radius: 50%;\n",
              "      cursor: pointer;\n",
              "      display: none;\n",
              "      fill: #1967D2;\n",
              "      height: 32px;\n",
              "      padding: 0 0 0 0;\n",
              "      width: 32px;\n",
              "    }\n",
              "\n",
              "    .colab-df-convert:hover {\n",
              "      background-color: #E2EBFA;\n",
              "      box-shadow: 0px 1px 2px rgba(60, 64, 67, 0.3), 0px 1px 3px 1px rgba(60, 64, 67, 0.15);\n",
              "      fill: #174EA6;\n",
              "    }\n",
              "\n",
              "    .colab-df-buttons div {\n",
              "      margin-bottom: 4px;\n",
              "    }\n",
              "\n",
              "    [theme=dark] .colab-df-convert {\n",
              "      background-color: #3B4455;\n",
              "      fill: #D2E3FC;\n",
              "    }\n",
              "\n",
              "    [theme=dark] .colab-df-convert:hover {\n",
              "      background-color: #434B5C;\n",
              "      box-shadow: 0px 1px 3px 1px rgba(0, 0, 0, 0.15);\n",
              "      filter: drop-shadow(0px 1px 2px rgba(0, 0, 0, 0.3));\n",
              "      fill: #FFFFFF;\n",
              "    }\n",
              "  </style>\n",
              "\n",
              "    <script>\n",
              "      const buttonEl =\n",
              "        document.querySelector('#df-92cafcdc-800a-4b20-ad91-0b65d58e7538 button.colab-df-convert');\n",
              "      buttonEl.style.display =\n",
              "        google.colab.kernel.accessAllowed ? 'block' : 'none';\n",
              "\n",
              "      async function convertToInteractive(key) {\n",
              "        const element = document.querySelector('#df-92cafcdc-800a-4b20-ad91-0b65d58e7538');\n",
              "        const dataTable =\n",
              "          await google.colab.kernel.invokeFunction('convertToInteractive',\n",
              "                                                    [key], {});\n",
              "        if (!dataTable) return;\n",
              "\n",
              "        const docLinkHtml = 'Like what you see? Visit the ' +\n",
              "          '<a target=\"_blank\" href=https://colab.research.google.com/notebooks/data_table.ipynb>data table notebook</a>'\n",
              "          + ' to learn more about interactive tables.';\n",
              "        element.innerHTML = '';\n",
              "        dataTable['output_type'] = 'display_data';\n",
              "        await google.colab.output.renderOutput(dataTable, element);\n",
              "        const docLink = document.createElement('div');\n",
              "        docLink.innerHTML = docLinkHtml;\n",
              "        element.appendChild(docLink);\n",
              "      }\n",
              "    </script>\n",
              "  </div>\n",
              "\n",
              "\n",
              "<div id=\"df-9d862cc9-c331-4764-8325-2ebc3812bc07\">\n",
              "  <button class=\"colab-df-quickchart\" onclick=\"quickchart('df-9d862cc9-c331-4764-8325-2ebc3812bc07')\"\n",
              "            title=\"Suggest charts.\"\n",
              "            style=\"display:none;\">\n",
              "\n",
              "<svg xmlns=\"http://www.w3.org/2000/svg\" height=\"24px\"viewBox=\"0 0 24 24\"\n",
              "     width=\"24px\">\n",
              "    <g>\n",
              "        <path d=\"M19 3H5c-1.1 0-2 .9-2 2v14c0 1.1.9 2 2 2h14c1.1 0 2-.9 2-2V5c0-1.1-.9-2-2-2zM9 17H7v-7h2v7zm4 0h-2V7h2v10zm4 0h-2v-4h2v4z\"/>\n",
              "    </g>\n",
              "</svg>\n",
              "  </button>\n",
              "\n",
              "<style>\n",
              "  .colab-df-quickchart {\n",
              "      --bg-color: #E8F0FE;\n",
              "      --fill-color: #1967D2;\n",
              "      --hover-bg-color: #E2EBFA;\n",
              "      --hover-fill-color: #174EA6;\n",
              "      --disabled-fill-color: #AAA;\n",
              "      --disabled-bg-color: #DDD;\n",
              "  }\n",
              "\n",
              "  [theme=dark] .colab-df-quickchart {\n",
              "      --bg-color: #3B4455;\n",
              "      --fill-color: #D2E3FC;\n",
              "      --hover-bg-color: #434B5C;\n",
              "      --hover-fill-color: #FFFFFF;\n",
              "      --disabled-bg-color: #3B4455;\n",
              "      --disabled-fill-color: #666;\n",
              "  }\n",
              "\n",
              "  .colab-df-quickchart {\n",
              "    background-color: var(--bg-color);\n",
              "    border: none;\n",
              "    border-radius: 50%;\n",
              "    cursor: pointer;\n",
              "    display: none;\n",
              "    fill: var(--fill-color);\n",
              "    height: 32px;\n",
              "    padding: 0;\n",
              "    width: 32px;\n",
              "  }\n",
              "\n",
              "  .colab-df-quickchart:hover {\n",
              "    background-color: var(--hover-bg-color);\n",
              "    box-shadow: 0 1px 2px rgba(60, 64, 67, 0.3), 0 1px 3px 1px rgba(60, 64, 67, 0.15);\n",
              "    fill: var(--button-hover-fill-color);\n",
              "  }\n",
              "\n",
              "  .colab-df-quickchart-complete:disabled,\n",
              "  .colab-df-quickchart-complete:disabled:hover {\n",
              "    background-color: var(--disabled-bg-color);\n",
              "    fill: var(--disabled-fill-color);\n",
              "    box-shadow: none;\n",
              "  }\n",
              "\n",
              "  .colab-df-spinner {\n",
              "    border: 2px solid var(--fill-color);\n",
              "    border-color: transparent;\n",
              "    border-bottom-color: var(--fill-color);\n",
              "    animation:\n",
              "      spin 1s steps(1) infinite;\n",
              "  }\n",
              "\n",
              "  @keyframes spin {\n",
              "    0% {\n",
              "      border-color: transparent;\n",
              "      border-bottom-color: var(--fill-color);\n",
              "      border-left-color: var(--fill-color);\n",
              "    }\n",
              "    20% {\n",
              "      border-color: transparent;\n",
              "      border-left-color: var(--fill-color);\n",
              "      border-top-color: var(--fill-color);\n",
              "    }\n",
              "    30% {\n",
              "      border-color: transparent;\n",
              "      border-left-color: var(--fill-color);\n",
              "      border-top-color: var(--fill-color);\n",
              "      border-right-color: var(--fill-color);\n",
              "    }\n",
              "    40% {\n",
              "      border-color: transparent;\n",
              "      border-right-color: var(--fill-color);\n",
              "      border-top-color: var(--fill-color);\n",
              "    }\n",
              "    60% {\n",
              "      border-color: transparent;\n",
              "      border-right-color: var(--fill-color);\n",
              "    }\n",
              "    80% {\n",
              "      border-color: transparent;\n",
              "      border-right-color: var(--fill-color);\n",
              "      border-bottom-color: var(--fill-color);\n",
              "    }\n",
              "    90% {\n",
              "      border-color: transparent;\n",
              "      border-bottom-color: var(--fill-color);\n",
              "    }\n",
              "  }\n",
              "</style>\n",
              "\n",
              "  <script>\n",
              "    async function quickchart(key) {\n",
              "      const quickchartButtonEl =\n",
              "        document.querySelector('#' + key + ' button');\n",
              "      quickchartButtonEl.disabled = true;  // To prevent multiple clicks.\n",
              "      quickchartButtonEl.classList.add('colab-df-spinner');\n",
              "      try {\n",
              "        const charts = await google.colab.kernel.invokeFunction(\n",
              "            'suggestCharts', [key], {});\n",
              "      } catch (error) {\n",
              "        console.error('Error during call to suggestCharts:', error);\n",
              "      }\n",
              "      quickchartButtonEl.classList.remove('colab-df-spinner');\n",
              "      quickchartButtonEl.classList.add('colab-df-quickchart-complete');\n",
              "    }\n",
              "    (() => {\n",
              "      let quickchartButtonEl =\n",
              "        document.querySelector('#df-9d862cc9-c331-4764-8325-2ebc3812bc07 button');\n",
              "      quickchartButtonEl.style.display =\n",
              "        google.colab.kernel.accessAllowed ? 'block' : 'none';\n",
              "    })();\n",
              "  </script>\n",
              "</div>\n",
              "    </div>\n",
              "  </div>\n"
            ]
          },
          "metadata": {},
          "execution_count": 4
        }
      ]
    },
    {
      "cell_type": "markdown",
      "source": [
        "Как видим, первые пять строк датасета содержат по ряду признаков пустые значения (cut, fluor), при этом пустые значения признака fluor заданы как NONE.\n",
        "\n",
        "Также загруженный файл помимо перечисленных в описании признаков содержит непоименнованный столбец."
      ],
      "metadata": {
        "id": "1xhFJU_9Xjf_"
      }
    },
    {
      "cell_type": "markdown",
      "source": [
        "Заменим все вхождения NONE пустыми значениями"
      ],
      "metadata": {
        "id": "lYu_DQmVaZ2w"
      }
    },
    {
      "cell_type": "code",
      "source": [
        "df = df.replace({'NONE': np.nan})"
      ],
      "metadata": {
        "id": "UjFOZaiEaaIX"
      },
      "execution_count": null,
      "outputs": []
    },
    {
      "cell_type": "markdown",
      "source": [
        "Посмотрим на размер данных (количество строк, колонок/признаков):"
      ],
      "metadata": {
        "id": "9i88aEjKRXGm"
      }
    },
    {
      "cell_type": "code",
      "source": [
        "df.shape"
      ],
      "metadata": {
        "colab": {
          "base_uri": "https://localhost:8080/"
        },
        "id": "7YOTc-3nRYJ9",
        "outputId": "8403ea7e-849c-4b06-956c-b2cd9eb7f27a"
      },
      "execution_count": null,
      "outputs": [
        {
          "output_type": "execute_result",
          "data": {
            "text/plain": [
              "(222222, 18)"
            ]
          },
          "metadata": {},
          "execution_count": 6
        }
      ]
    },
    {
      "cell_type": "markdown",
      "source": [
        "Датасет содержит 18 признаков и 222222 строк."
      ],
      "metadata": {
        "id": "eeHQKW53Pu0Q"
      }
    },
    {
      "cell_type": "markdown",
      "source": [
        "#Отсутствующие данные"
      ],
      "metadata": {
        "id": "iauazy0RLU-s"
      }
    },
    {
      "cell_type": "markdown",
      "source": [
        "Оценим сколько значений в каждом столбце и формат данных"
      ],
      "metadata": {
        "id": "KD3qJJ78SUcy"
      }
    },
    {
      "cell_type": "code",
      "source": [
        " df.info()"
      ],
      "metadata": {
        "colab": {
          "base_uri": "https://localhost:8080/"
        },
        "id": "tnmIUtbcSU0Q",
        "outputId": "3ed9ac1d-fd8c-411f-e4f3-48072c2a5ab7"
      },
      "execution_count": null,
      "outputs": [
        {
          "output_type": "stream",
          "name": "stdout",
          "text": [
            "<class 'pandas.core.frame.DataFrame'>\n",
            "RangeIndex: 222222 entries, 0 to 222221\n",
            "Data columns (total 18 columns):\n",
            " #   Column           Non-Null Count   Dtype  \n",
            "---  ------           --------------   -----  \n",
            " 0   Unnamed: 0       222222 non-null  int64  \n",
            " 1   fluor            80161 non-null   object \n",
            " 2   symmetry         222218 non-null  object \n",
            " 3   platform         222218 non-null  object \n",
            " 4   shape            222218 non-null  object \n",
            " 5   color            222218 non-null  object \n",
            " 6   clarity          222218 non-null  object \n",
            " 7   cut              148981 non-null  object \n",
            " 8   polish           222218 non-null  object \n",
            " 9   id               222222 non-null  int64  \n",
            " 10  date             222222 non-null  int64  \n",
            " 11  price            222222 non-null  float64\n",
            " 12  carat            222222 non-null  float64\n",
            " 13  price_per_carat  222222 non-null  float64\n",
            " 14  z                222222 non-null  float64\n",
            " 15  x                222222 non-null  float64\n",
            " 16  depth_perc       222222 non-null  float64\n",
            " 17  y                222222 non-null  float64\n",
            "dtypes: float64(7), int64(3), object(8)\n",
            "memory usage: 30.5+ MB\n"
          ]
        }
      ]
    },
    {
      "cell_type": "markdown",
      "source": [
        "Построим гистограмму для числа отсутствующих значений в записи."
      ],
      "metadata": {
        "id": "cQkYmdSVJeDn"
      }
    },
    {
      "cell_type": "code",
      "source": [
        "# создаем копию датасета и в столбцах копии помечаем ячейки с пустыми значениями\n",
        "df_ismissing = df.copy()\n",
        "for col in df_ismissing.columns:\n",
        "    missing = df_ismissing[col].isnull()\n",
        "    num_missing = np.sum(missing)\n",
        "\n",
        "    if num_missing > 0:\n",
        "        print('created missing indicator for: {}'.format(col))\n",
        "        df_ismissing['{}_ismissing'.format(col)] = missing\n",
        "\n",
        "# затем на основе индикатора строим гистограмму\n",
        "ismissing_cols = [col for col in df_ismissing.columns if 'ismissing' in col]\n",
        "df_ismissing['num_missing'] = df_ismissing[ismissing_cols].sum(axis=1)\n",
        "\n",
        "df_ismissing['num_missing'].value_counts().reset_index().sort_values(by='index').plot.bar(x='index', y='num_missing')\n"
      ],
      "metadata": {
        "colab": {
          "base_uri": "https://localhost:8080/",
          "height": 600
        },
        "id": "kYVQPr2CJcvv",
        "outputId": "342d2845-20e2-4b1b-cbdb-3eb7c8d9f34d"
      },
      "execution_count": null,
      "outputs": [
        {
          "output_type": "stream",
          "name": "stdout",
          "text": [
            "created missing indicator for: fluor\n",
            "created missing indicator for: symmetry\n",
            "created missing indicator for: platform\n",
            "created missing indicator for: shape\n",
            "created missing indicator for: color\n",
            "created missing indicator for: clarity\n",
            "created missing indicator for: cut\n",
            "created missing indicator for: polish\n"
          ]
        },
        {
          "output_type": "execute_result",
          "data": {
            "text/plain": [
              "<Axes: xlabel='index'>"
            ]
          },
          "metadata": {},
          "execution_count": 8
        },
        {
          "output_type": "display_data",
          "data": {
            "text/plain": [
              "<Figure size 640x480 with 1 Axes>"
            ],
            "image/png": "[encoded data removed]"
          },
          "metadata": {}
        }
      ]
    },
    {
      "cell_type": "markdown",
      "source": [
        "Как видно из проведенного анализа, из 222222 записей менее 6 тыс. строк не имеют ни одного пропущенного значения, более 12 тыс. и 4 тыс. строк содержат соответсвтенно одно и два пропущенных значения. Наибольшее число признаков с пустыми значениями - fluor, cut. Отметим, что в датасете присутствуют строки, в которых пропущены 8 значений."
      ],
      "metadata": {
        "id": "Cd3bdQtsEV1x"
      }
    },
    {
      "cell_type": "markdown",
      "source": [
        "Учитывая малочисленность строк, в которых 8 пропущенных значений, определим их количество и оценим насколько они могут быть полезны для дальнейшего анализа"
      ],
      "metadata": {
        "id": "SQ9docGLF6sI"
      }
    },
    {
      "cell_type": "code",
      "source": [
        "ind_missing = df_ismissing[df_ismissing['num_missing'] == 8].index\n",
        "print(ind_missing)"
      ],
      "metadata": {
        "colab": {
          "base_uri": "https://localhost:8080/"
        },
        "id": "4kSlOU7-rzfA",
        "outputId": "878ed589-ddc8-44c0-f780-0405d0476014"
      },
      "execution_count": null,
      "outputs": [
        {
          "output_type": "stream",
          "name": "stdout",
          "text": [
            "Int64Index([52531, 86568, 209098, 220709], dtype='int64')\n"
          ]
        }
      ]
    },
    {
      "cell_type": "code",
      "source": [
        "df.iloc[ind_missing].shape\n",
        "df.iloc[ind_missing].head()"
      ],
      "metadata": {
        "colab": {
          "base_uri": "https://localhost:8080/",
          "height": 212
        },
        "id": "aSxGJwLtGgyM",
        "outputId": "92574b82-44d0-44b3-cde0-8fcd02a917b2"
      },
      "execution_count": null,
      "outputs": [
        {
          "output_type": "execute_result",
          "data": {
            "text/plain": [
              "        Unnamed: 0 fluor symmetry platform shape color clarity  cut polish  \\\n",
              "52531       202754   NaN      NaN      NaN   NaN   NaN     NaN  NaN    NaN   \n",
              "86568       244620   NaN      NaN      NaN   NaN   NaN     NaN  NaN    NaN   \n",
              "209098       53946   NaN      NaN      NaN   NaN   NaN     NaN  NaN    NaN   \n",
              "220709       53948   NaN      NaN      NaN   NaN   NaN     NaN  NaN    NaN   \n",
              "\n",
              "        id  date  price  carat  price_per_carat    z    x  depth_perc    y  \n",
              "52531    0     0    0.0    0.0              0.0  0.0  0.0         0.0  0.0  \n",
              "86568    0     0    0.0    0.0              0.0  0.0  0.0         0.0  0.0  \n",
              "209098   0     0    0.0    0.0              0.0  0.0  0.0         0.0  0.0  \n",
              "220709   0     0    0.0    0.0              0.0  0.0  0.0         0.0  0.0  "
            ],
            "text/html": [
              "\n",
              "  <div id=\"df-31e5f616-253a-4d0c-baf0-67fda5efb2e6\" class=\"colab-df-container\">\n",
              "    <div>\n",
              "<style scoped>\n",
              "    .dataframe tbody tr th:only-of-type {\n",
              "        vertical-align: middle;\n",
              "    }\n",
              "\n",
              "    .dataframe tbody tr th {\n",
              "        vertical-align: top;\n",
              "    }\n",
              "\n",
              "    .dataframe thead th {\n",
              "        text-align: right;\n",
              "    }\n",
              "</style>\n",
              "<table border=\"1\" class=\"dataframe\">\n",
              "  <thead>\n",
              "    <tr style=\"text-align: right;\">\n",
              "      <th></th>\n",
              "      <th>Unnamed: 0</th>\n",
              "      <th>fluor</th>\n",
              "      <th>symmetry</th>\n",
              "      <th>platform</th>\n",
              "      <th>shape</th>\n",
              "      <th>color</th>\n",
              "      <th>clarity</th>\n",
              "      <th>cut</th>\n",
              "      <th>polish</th>\n",
              "      <th>id</th>\n",
              "      <th>date</th>\n",
              "      <th>price</th>\n",
              "      <th>carat</th>\n",
              "      <th>price_per_carat</th>\n",
              "      <th>z</th>\n",
              "      <th>x</th>\n",
              "      <th>depth_perc</th>\n",
              "      <th>y</th>\n",
              "    </tr>\n",
              "  </thead>\n",
              "  <tbody>\n",
              "    <tr>\n",
              "      <th>52531</th>\n",
              "      <td>202754</td>\n",
              "      <td>NaN</td>\n",
              "      <td>NaN</td>\n",
              "      <td>NaN</td>\n",
              "      <td>NaN</td>\n",
              "      <td>NaN</td>\n",
              "      <td>NaN</td>\n",
              "      <td>NaN</td>\n",
              "      <td>NaN</td>\n",
              "      <td>0</td>\n",
              "      <td>0</td>\n",
              "      <td>0.0</td>\n",
              "      <td>0.0</td>\n",
              "      <td>0.0</td>\n",
              "      <td>0.0</td>\n",
              "      <td>0.0</td>\n",
              "      <td>0.0</td>\n",
              "      <td>0.0</td>\n",
              "    </tr>\n",
              "    <tr>\n",
              "      <th>86568</th>\n",
              "      <td>244620</td>\n",
              "      <td>NaN</td>\n",
              "      <td>NaN</td>\n",
              "      <td>NaN</td>\n",
              "      <td>NaN</td>\n",
              "      <td>NaN</td>\n",
              "      <td>NaN</td>\n",
              "      <td>NaN</td>\n",
              "      <td>NaN</td>\n",
              "      <td>0</td>\n",
              "      <td>0</td>\n",
              "      <td>0.0</td>\n",
              "      <td>0.0</td>\n",
              "      <td>0.0</td>\n",
              "      <td>0.0</td>\n",
              "      <td>0.0</td>\n",
              "      <td>0.0</td>\n",
              "      <td>0.0</td>\n",
              "    </tr>\n",
              "    <tr>\n",
              "      <th>209098</th>\n",
              "      <td>53946</td>\n",
              "      <td>NaN</td>\n",
              "      <td>NaN</td>\n",
              "      <td>NaN</td>\n",
              "      <td>NaN</td>\n",
              "      <td>NaN</td>\n",
              "      <td>NaN</td>\n",
              "      <td>NaN</td>\n",
              "      <td>NaN</td>\n",
              "      <td>0</td>\n",
              "      <td>0</td>\n",
              "      <td>0.0</td>\n",
              "      <td>0.0</td>\n",
              "      <td>0.0</td>\n",
              "      <td>0.0</td>\n",
              "      <td>0.0</td>\n",
              "      <td>0.0</td>\n",
              "      <td>0.0</td>\n",
              "    </tr>\n",
              "    <tr>\n",
              "      <th>220709</th>\n",
              "      <td>53948</td>\n",
              "      <td>NaN</td>\n",
              "      <td>NaN</td>\n",
              "      <td>NaN</td>\n",
              "      <td>NaN</td>\n",
              "      <td>NaN</td>\n",
              "      <td>NaN</td>\n",
              "      <td>NaN</td>\n",
              "      <td>NaN</td>\n",
              "      <td>0</td>\n",
              "      <td>0</td>\n",
              "      <td>0.0</td>\n",
              "      <td>0.0</td>\n",
              "      <td>0.0</td>\n",
              "      <td>0.0</td>\n",
              "      <td>0.0</td>\n",
              "      <td>0.0</td>\n",
              "      <td>0.0</td>\n",
              "    </tr>\n",
              "  </tbody>\n",
              "</table>\n",
              "</div>\n",
              "    <div class=\"colab-df-buttons\">\n",
              "\n",
              "  <div class=\"colab-df-container\">\n",
              "    <button class=\"colab-df-convert\" onclick=\"convertToInteractive('df-31e5f616-253a-4d0c-baf0-67fda5efb2e6')\"\n",
              "            title=\"Convert this dataframe to an interactive table.\"\n",
              "            style=\"display:none;\">\n",
              "\n",
              "  <svg xmlns=\"http://www.w3.org/2000/svg\" height=\"24px\" viewBox=\"0 -960 960 960\">\n",
              "    <path d=\"M120-120v-720h720v720H120Zm60-500h600v-160H180v160Zm220 220h160v-160H400v160Zm0 220h160v-160H400v160ZM180-400h160v-160H180v160Zm440 0h160v-160H620v160ZM180-180h160v-160H180v160Zm440 0h160v-160H620v160Z\"/>\n",
              "  </svg>\n",
              "    </button>\n",
              "\n",
              "  <style>\n",
              "    .colab-df-container {\n",
              "      display:flex;\n",
              "      gap: 12px;\n",
              "    }\n",
              "\n",
              "    .colab-df-convert {\n",
              "      background-color: #E8F0FE;\n",
              "      border: none;\n",
              "      border-radius: 50%;\n",
              "      cursor: pointer;\n",
              "      display: none;\n",
              "      fill: #1967D2;\n",
              "      height: 32px;\n",
              "      padding: 0 0 0 0;\n",
              "      width: 32px;\n",
              "    }\n",
              "\n",
              "    .colab-df-convert:hover {\n",
              "      background-color: #E2EBFA;\n",
              "      box-shadow: 0px 1px 2px rgba(60, 64, 67, 0.3), 0px 1px 3px 1px rgba(60, 64, 67, 0.15);\n",
              "      fill: #174EA6;\n",
              "    }\n",
              "\n",
              "    .colab-df-buttons div {\n",
              "      margin-bottom: 4px;\n",
              "    }\n",
              "\n",
              "    [theme=dark] .colab-df-convert {\n",
              "      background-color: #3B4455;\n",
              "      fill: #D2E3FC;\n",
              "    }\n",
              "\n",
              "    [theme=dark] .colab-df-convert:hover {\n",
              "      background-color: #434B5C;\n",
              "      box-shadow: 0px 1px 3px 1px rgba(0, 0, 0, 0.15);\n",
              "      filter: drop-shadow(0px 1px 2px rgba(0, 0, 0, 0.3));\n",
              "      fill: #FFFFFF;\n",
              "    }\n",
              "  </style>\n",
              "\n",
              "    <script>\n",
              "      const buttonEl =\n",
              "        document.querySelector('#df-31e5f616-253a-4d0c-baf0-67fda5efb2e6 button.colab-df-convert');\n",
              "      buttonEl.style.display =\n",
              "        google.colab.kernel.accessAllowed ? 'block' : 'none';\n",
              "\n",
              "      async function convertToInteractive(key) {\n",
              "        const element = document.querySelector('#df-31e5f616-253a-4d0c-baf0-67fda5efb2e6');\n",
              "        const dataTable =\n",
              "          await google.colab.kernel.invokeFunction('convertToInteractive',\n",
              "                                                    [key], {});\n",
              "        if (!dataTable) return;\n",
              "\n",
              "        const docLinkHtml = 'Like what you see? Visit the ' +\n",
              "          '<a target=\"_blank\" href=https://colab.research.google.com/notebooks/data_table.ipynb>data table notebook</a>'\n",
              "          + ' to learn more about interactive tables.';\n",
              "        element.innerHTML = '';\n",
              "        dataTable['output_type'] = 'display_data';\n",
              "        await google.colab.output.renderOutput(dataTable, element);\n",
              "        const docLink = document.createElement('div');\n",
              "        docLink.innerHTML = docLinkHtml;\n",
              "        element.appendChild(docLink);\n",
              "      }\n",
              "    </script>\n",
              "  </div>\n",
              "\n",
              "\n",
              "<div id=\"df-2802acc8-eb78-4504-8777-8d021b605d76\">\n",
              "  <button class=\"colab-df-quickchart\" onclick=\"quickchart('df-2802acc8-eb78-4504-8777-8d021b605d76')\"\n",
              "            title=\"Suggest charts.\"\n",
              "            style=\"display:none;\">\n",
              "\n",
              "<svg xmlns=\"http://www.w3.org/2000/svg\" height=\"24px\"viewBox=\"0 0 24 24\"\n",
              "     width=\"24px\">\n",
              "    <g>\n",
              "        <path d=\"M19 3H5c-1.1 0-2 .9-2 2v14c0 1.1.9 2 2 2h14c1.1 0 2-.9 2-2V5c0-1.1-.9-2-2-2zM9 17H7v-7h2v7zm4 0h-2V7h2v10zm4 0h-2v-4h2v4z\"/>\n",
              "    </g>\n",
              "</svg>\n",
              "  </button>\n",
              "\n",
              "<style>\n",
              "  .colab-df-quickchart {\n",
              "      --bg-color: #E8F0FE;\n",
              "      --fill-color: #1967D2;\n",
              "      --hover-bg-color: #E2EBFA;\n",
              "      --hover-fill-color: #174EA6;\n",
              "      --disabled-fill-color: #AAA;\n",
              "      --disabled-bg-color: #DDD;\n",
              "  }\n",
              "\n",
              "  [theme=dark] .colab-df-quickchart {\n",
              "      --bg-color: #3B4455;\n",
              "      --fill-color: #D2E3FC;\n",
              "      --hover-bg-color: #434B5C;\n",
              "      --hover-fill-color: #FFFFFF;\n",
              "      --disabled-bg-color: #3B4455;\n",
              "      --disabled-fill-color: #666;\n",
              "  }\n",
              "\n",
              "  .colab-df-quickchart {\n",
              "    background-color: var(--bg-color);\n",
              "    border: none;\n",
              "    border-radius: 50%;\n",
              "    cursor: pointer;\n",
              "    display: none;\n",
              "    fill: var(--fill-color);\n",
              "    height: 32px;\n",
              "    padding: 0;\n",
              "    width: 32px;\n",
              "  }\n",
              "\n",
              "  .colab-df-quickchart:hover {\n",
              "    background-color: var(--hover-bg-color);\n",
              "    box-shadow: 0 1px 2px rgba(60, 64, 67, 0.3), 0 1px 3px 1px rgba(60, 64, 67, 0.15);\n",
              "    fill: var(--button-hover-fill-color);\n",
              "  }\n",
              "\n",
              "  .colab-df-quickchart-complete:disabled,\n",
              "  .colab-df-quickchart-complete:disabled:hover {\n",
              "    background-color: var(--disabled-bg-color);\n",
              "    fill: var(--disabled-fill-color);\n",
              "    box-shadow: none;\n",
              "  }\n",
              "\n",
              "  .colab-df-spinner {\n",
              "    border: 2px solid var(--fill-color);\n",
              "    border-color: transparent;\n",
              "    border-bottom-color: var(--fill-color);\n",
              "    animation:\n",
              "      spin 1s steps(1) infinite;\n",
              "  }\n",
              "\n",
              "  @keyframes spin {\n",
              "    0% {\n",
              "      border-color: transparent;\n",
              "      border-bottom-color: var(--fill-color);\n",
              "      border-left-color: var(--fill-color);\n",
              "    }\n",
              "    20% {\n",
              "      border-color: transparent;\n",
              "      border-left-color: var(--fill-color);\n",
              "      border-top-color: var(--fill-color);\n",
              "    }\n",
              "    30% {\n",
              "      border-color: transparent;\n",
              "      border-left-color: var(--fill-color);\n",
              "      border-top-color: var(--fill-color);\n",
              "      border-right-color: var(--fill-color);\n",
              "    }\n",
              "    40% {\n",
              "      border-color: transparent;\n",
              "      border-right-color: var(--fill-color);\n",
              "      border-top-color: var(--fill-color);\n",
              "    }\n",
              "    60% {\n",
              "      border-color: transparent;\n",
              "      border-right-color: var(--fill-color);\n",
              "    }\n",
              "    80% {\n",
              "      border-color: transparent;\n",
              "      border-right-color: var(--fill-color);\n",
              "      border-bottom-color: var(--fill-color);\n",
              "    }\n",
              "    90% {\n",
              "      border-color: transparent;\n",
              "      border-bottom-color: var(--fill-color);\n",
              "    }\n",
              "  }\n",
              "</style>\n",
              "\n",
              "  <script>\n",
              "    async function quickchart(key) {\n",
              "      const quickchartButtonEl =\n",
              "        document.querySelector('#' + key + ' button');\n",
              "      quickchartButtonEl.disabled = true;  // To prevent multiple clicks.\n",
              "      quickchartButtonEl.classList.add('colab-df-spinner');\n",
              "      try {\n",
              "        const charts = await google.colab.kernel.invokeFunction(\n",
              "            'suggestCharts', [key], {});\n",
              "      } catch (error) {\n",
              "        console.error('Error during call to suggestCharts:', error);\n",
              "      }\n",
              "      quickchartButtonEl.classList.remove('colab-df-spinner');\n",
              "      quickchartButtonEl.classList.add('colab-df-quickchart-complete');\n",
              "    }\n",
              "    (() => {\n",
              "      let quickchartButtonEl =\n",
              "        document.querySelector('#df-2802acc8-eb78-4504-8777-8d021b605d76 button');\n",
              "      quickchartButtonEl.style.display =\n",
              "        google.colab.kernel.accessAllowed ? 'block' : 'none';\n",
              "    })();\n",
              "  </script>\n",
              "</div>\n",
              "    </div>\n",
              "  </div>\n"
            ]
          },
          "metadata": {},
          "execution_count": 10
        }
      ]
    },
    {
      "cell_type": "markdown",
      "source": [
        "В нашем датасете имеется 4 пустые строки, которые можно удалить безболезнено для дальнейшего анализа"
      ],
      "metadata": {
        "id": "DJ7P4OJWGGFB"
      }
    },
    {
      "cell_type": "code",
      "source": [
        "# отбрасываем строки с большим количеством пропусков\n",
        "ind_missing = df_ismissing[df_ismissing['num_missing'] == 8].index\n",
        "print(ind_missing)\n",
        "df = df.drop(ind_missing, axis=0)"
      ],
      "metadata": {
        "colab": {
          "base_uri": "https://localhost:8080/"
        },
        "id": "oPpjEMh5t6eH",
        "outputId": "fda12afa-c4af-4f51-d605-9aa2601162f6"
      },
      "execution_count": null,
      "outputs": [
        {
          "output_type": "stream",
          "name": "stdout",
          "text": [
            "Int64Index([52531, 86568, 209098, 220709], dtype='int64')\n"
          ]
        }
      ]
    },
    {
      "cell_type": "markdown",
      "source": [
        "Убедимся, что строки удалены"
      ],
      "metadata": {
        "id": "2z7YkDLDVYFh"
      }
    },
    {
      "cell_type": "code",
      "source": [
        "df_ismissing = df.copy()\n",
        "for col in df_ismissing.columns:\n",
        "    missing = df_ismissing[col].isnull()\n",
        "    num_missing = np.sum(missing)\n",
        "\n",
        "    if num_missing > 0:\n",
        "        print('created missing indicator for: {}'.format(col))\n",
        "        df_ismissing['{}_ismissing'.format(col)] = missing\n",
        "\n",
        "ismissing_cols = [col for col in df_ismissing.columns if 'ismissing' in col]\n",
        "df_ismissing['num_missing'] = df_ismissing[ismissing_cols].sum(axis=1)\n",
        "\n",
        "df_ismissing['num_missing'].value_counts().reset_index().sort_values(by='index').plot.bar(x='index', y='num_missing')"
      ],
      "metadata": {
        "colab": {
          "base_uri": "https://localhost:8080/",
          "height": 496
        },
        "id": "dVo7ESLBFg8o",
        "outputId": "86d964b2-f429-4989-c679-e686d8905b74"
      },
      "execution_count": null,
      "outputs": [
        {
          "output_type": "stream",
          "name": "stdout",
          "text": [
            "created missing indicator for: fluor\n",
            "created missing indicator for: cut\n"
          ]
        },
        {
          "output_type": "execute_result",
          "data": {
            "text/plain": [
              "<Axes: xlabel='index'>"
            ]
          },
          "metadata": {},
          "execution_count": 12
        },
        {
          "output_type": "display_data",
          "data": {
            "text/plain": [
              "<Figure size 640x480 with 1 Axes>"
            ],
            "image/png": "[encoded data removed]"
          },
          "metadata": {}
        }
      ]
    },
    {
      "cell_type": "markdown",
      "source": [
        "С незаданными значениями в датасете остались категориальные признаки fluor и cut. Если в дальнейшем эти данные будут признаны не информативными, можно будет удалить признаки либо строки, в которых имеются пропущенные значения. Если они будут признаны информативными, то можно провести мероприятия по внесению недостающих значений, использовав в качестве заполнителя наиболее часто встречающееся значение."
      ],
      "metadata": {
        "id": "gBWzs020F01q"
      }
    },
    {
      "cell_type": "markdown",
      "source": [
        "#Удаление неинформативных признаков"
      ],
      "metadata": {
        "id": "gZ-JIsU0v5_E"
      }
    },
    {
      "cell_type": "markdown",
      "source": [
        "Чтобы узнать статистические характеристики нашего датасета (разброс значений, среднюю стоимость, медиану  и прочее) используем метод .describe(). Учитывая, что метод describe( ) пропускает строки и столбцы не содержащие чисел - категориальные признаки, используем аргумент - include = \"all\"."
      ],
      "metadata": {
        "id": "PHKQiFRrTEUS"
      }
    },
    {
      "cell_type": "code",
      "source": [
        "df.describe(include = \"all\")"
      ],
      "metadata": {
        "colab": {
          "base_uri": "https://localhost:8080/",
          "height": 414
        },
        "id": "HneIv_11TaFy",
        "outputId": "821b1fc3-5a2b-46a4-e95c-ac0ece1d6196"
      },
      "execution_count": null,
      "outputs": [
        {
          "output_type": "execute_result",
          "data": {
            "text/plain": [
              "           Unnamed: 0  fluor symmetry    platform   shape   color clarity  \\\n",
              "count   222218.000000  80161   222218      222218  222218  222218  222218   \n",
              "unique            NaN      3        4           1      10      10       9   \n",
              "top               NaN    FNT       EX  jamesallen      RD       G     SI2   \n",
              "freq              NaN  43400   131531      222218  118463   35446   48391   \n",
              "mean    226827.475016    NaN      NaN         NaN     NaN     NaN     NaN   \n",
              "std     130806.813138    NaN      NaN         NaN     NaN     NaN     NaN   \n",
              "min          5.000000    NaN      NaN         NaN     NaN     NaN     NaN   \n",
              "25%     113432.250000    NaN      NaN         NaN     NaN     NaN     NaN   \n",
              "50%     226951.500000    NaN      NaN         NaN     NaN     NaN     NaN   \n",
              "75%     339883.250000    NaN      NaN         NaN     NaN     NaN     NaN   \n",
              "max     453631.000000    NaN      NaN         NaN     NaN     NaN     NaN   \n",
              "\n",
              "           cut  polish            id           date         price  \\\n",
              "count   148981  222218  2.222180e+05  222218.000000  2.222180e+05   \n",
              "unique       3       3           NaN            NaN           NaN   \n",
              "top         EX      EX           NaN            NaN           NaN   \n",
              "freq    104609  192802           NaN            NaN           NaN   \n",
              "mean       NaN     NaN  1.358856e+07  202206.044339  1.171541e+04   \n",
              "std        NaN     NaN  2.547882e+06       0.824541  2.540357e+04   \n",
              "min        NaN     NaN  1.942300e+04  202205.000000  9.200000e+02   \n",
              "25%        NaN     NaN  1.359865e+07  202205.000000  4.210000e+03   \n",
              "50%        NaN     NaN  1.440046e+07  202206.000000  6.560000e+03   \n",
              "75%        NaN     NaN  1.483763e+07  202207.000000  1.160000e+04   \n",
              "max        NaN     NaN  1.541851e+07  202207.000000  2.380380e+06   \n",
              "\n",
              "                carat  price_per_carat              z              x  \\\n",
              "count   222218.000000    222218.000000  222218.000000  222218.000000   \n",
              "unique            NaN              NaN            NaN            NaN   \n",
              "top               NaN              NaN            NaN            NaN   \n",
              "freq              NaN              NaN            NaN            NaN   \n",
              "mean         1.343014      7035.035166       7.083607       6.424106   \n",
              "std          0.724048      5216.408361       1.376995       1.045943   \n",
              "min          0.810000      1029.700000       4.520000       3.870000   \n",
              "25%          1.000000      4148.510000       6.260000       5.690000   \n",
              "50%          1.010000      5851.490000       6.530000       6.380000   \n",
              "75%          1.500000      8609.270000       7.660000       6.820000   \n",
              "max         21.170000    955000.000000      21.880000      18.050000   \n",
              "\n",
              "           depth_perc              y  \n",
              "count   222218.000000  222218.000000  \n",
              "unique            NaN            NaN  \n",
              "top               NaN            NaN  \n",
              "freq              NaN            NaN  \n",
              "mean        64.087981       4.097928  \n",
              "std          4.191885       0.599138  \n",
              "min         46.000000       2.472100  \n",
              "25%         61.800000       3.811500  \n",
              "50%         63.000000       3.998400  \n",
              "75%         66.000000       4.322545  \n",
              "max         78.000000      10.739750  "
            ],
            "text/html": [
              "\n",
              "  <div id=\"df-f6aeefac-bd6a-4980-98f9-629a78e89780\" class=\"colab-df-container\">\n",
              "    <div>\n",
              "<style scoped>\n",
              "    .dataframe tbody tr th:only-of-type {\n",
              "        vertical-align: middle;\n",
              "    }\n",
              "\n",
              "    .dataframe tbody tr th {\n",
              "        vertical-align: top;\n",
              "    }\n",
              "\n",
              "    .dataframe thead th {\n",
              "        text-align: right;\n",
              "    }\n",
              "</style>\n",
              "<table border=\"1\" class=\"dataframe\">\n",
              "  <thead>\n",
              "    <tr style=\"text-align: right;\">\n",
              "      <th></th>\n",
              "      <th>Unnamed: 0</th>\n",
              "      <th>fluor</th>\n",
              "      <th>symmetry</th>\n",
              "      <th>platform</th>\n",
              "      <th>shape</th>\n",
              "      <th>color</th>\n",
              "      <th>clarity</th>\n",
              "      <th>cut</th>\n",
              "      <th>polish</th>\n",
              "      <th>id</th>\n",
              "      <th>date</th>\n",
              "      <th>price</th>\n",
              "      <th>carat</th>\n",
              "      <th>price_per_carat</th>\n",
              "      <th>z</th>\n",
              "      <th>x</th>\n",
              "      <th>depth_perc</th>\n",
              "      <th>y</th>\n",
              "    </tr>\n",
              "  </thead>\n",
              "  <tbody>\n",
              "    <tr>\n",
              "      <th>count</th>\n",
              "      <td>222218.000000</td>\n",
              "      <td>80161</td>\n",
              "      <td>222218</td>\n",
              "      <td>222218</td>\n",
              "      <td>222218</td>\n",
              "      <td>222218</td>\n",
              "      <td>222218</td>\n",
              "      <td>148981</td>\n",
              "      <td>222218</td>\n",
              "      <td>2.222180e+05</td>\n",
              "      <td>222218.000000</td>\n",
              "      <td>2.222180e+05</td>\n",
              "      <td>222218.000000</td>\n",
              "      <td>222218.000000</td>\n",
              "      <td>222218.000000</td>\n",
              "      <td>222218.000000</td>\n",
              "      <td>222218.000000</td>\n",
              "      <td>222218.000000</td>\n",
              "    </tr>\n",
              "    <tr>\n",
              "      <th>unique</th>\n",
              "      <td>NaN</td>\n",
              "      <td>3</td>\n",
              "      <td>4</td>\n",
              "      <td>1</td>\n",
              "      <td>10</td>\n",
              "      <td>10</td>\n",
              "      <td>9</td>\n",
              "      <td>3</td>\n",
              "      <td>3</td>\n",
              "      <td>NaN</td>\n",
              "      <td>NaN</td>\n",
              "      <td>NaN</td>\n",
              "      <td>NaN</td>\n",
              "      <td>NaN</td>\n",
              "      <td>NaN</td>\n",
              "      <td>NaN</td>\n",
              "      <td>NaN</td>\n",
              "      <td>NaN</td>\n",
              "    </tr>\n",
              "    <tr>\n",
              "      <th>top</th>\n",
              "      <td>NaN</td>\n",
              "      <td>FNT</td>\n",
              "      <td>EX</td>\n",
              "      <td>jamesallen</td>\n",
              "      <td>RD</td>\n",
              "      <td>G</td>\n",
              "      <td>SI2</td>\n",
              "      <td>EX</td>\n",
              "      <td>EX</td>\n",
              "      <td>NaN</td>\n",
              "      <td>NaN</td>\n",
              "      <td>NaN</td>\n",
              "      <td>NaN</td>\n",
              "      <td>NaN</td>\n",
              "      <td>NaN</td>\n",
              "      <td>NaN</td>\n",
              "      <td>NaN</td>\n",
              "      <td>NaN</td>\n",
              "    </tr>\n",
              "    <tr>\n",
              "      <th>freq</th>\n",
              "      <td>NaN</td>\n",
              "      <td>43400</td>\n",
              "      <td>131531</td>\n",
              "      <td>222218</td>\n",
              "      <td>118463</td>\n",
              "      <td>35446</td>\n",
              "      <td>48391</td>\n",
              "      <td>104609</td>\n",
              "      <td>192802</td>\n",
              "      <td>NaN</td>\n",
              "      <td>NaN</td>\n",
              "      <td>NaN</td>\n",
              "      <td>NaN</td>\n",
              "      <td>NaN</td>\n",
              "      <td>NaN</td>\n",
              "      <td>NaN</td>\n",
              "      <td>NaN</td>\n",
              "      <td>NaN</td>\n",
              "    </tr>\n",
              "    <tr>\n",
              "      <th>mean</th>\n",
              "      <td>226827.475016</td>\n",
              "      <td>NaN</td>\n",
              "      <td>NaN</td>\n",
              "      <td>NaN</td>\n",
              "      <td>NaN</td>\n",
              "      <td>NaN</td>\n",
              "      <td>NaN</td>\n",
              "      <td>NaN</td>\n",
              "      <td>NaN</td>\n",
              "      <td>1.358856e+07</td>\n",
              "      <td>202206.044339</td>\n",
              "      <td>1.171541e+04</td>\n",
              "      <td>1.343014</td>\n",
              "      <td>7035.035166</td>\n",
              "      <td>7.083607</td>\n",
              "      <td>6.424106</td>\n",
              "      <td>64.087981</td>\n",
              "      <td>4.097928</td>\n",
              "    </tr>\n",
              "    <tr>\n",
              "      <th>std</th>\n",
              "      <td>130806.813138</td>\n",
              "      <td>NaN</td>\n",
              "      <td>NaN</td>\n",
              "      <td>NaN</td>\n",
              "      <td>NaN</td>\n",
              "      <td>NaN</td>\n",
              "      <td>NaN</td>\n",
              "      <td>NaN</td>\n",
              "      <td>NaN</td>\n",
              "      <td>2.547882e+06</td>\n",
              "      <td>0.824541</td>\n",
              "      <td>2.540357e+04</td>\n",
              "      <td>0.724048</td>\n",
              "      <td>5216.408361</td>\n",
              "      <td>1.376995</td>\n",
              "      <td>1.045943</td>\n",
              "      <td>4.191885</td>\n",
              "      <td>0.599138</td>\n",
              "    </tr>\n",
              "    <tr>\n",
              "      <th>min</th>\n",
              "      <td>5.000000</td>\n",
              "      <td>NaN</td>\n",
              "      <td>NaN</td>\n",
              "      <td>NaN</td>\n",
              "      <td>NaN</td>\n",
              "      <td>NaN</td>\n",
              "      <td>NaN</td>\n",
              "      <td>NaN</td>\n",
              "      <td>NaN</td>\n",
              "      <td>1.942300e+04</td>\n",
              "      <td>202205.000000</td>\n",
              "      <td>9.200000e+02</td>\n",
              "      <td>0.810000</td>\n",
              "      <td>1029.700000</td>\n",
              "      <td>4.520000</td>\n",
              "      <td>3.870000</td>\n",
              "      <td>46.000000</td>\n",
              "      <td>2.472100</td>\n",
              "    </tr>\n",
              "    <tr>\n",
              "      <th>25%</th>\n",
              "      <td>113432.250000</td>\n",
              "      <td>NaN</td>\n",
              "      <td>NaN</td>\n",
              "      <td>NaN</td>\n",
              "      <td>NaN</td>\n",
              "      <td>NaN</td>\n",
              "      <td>NaN</td>\n",
              "      <td>NaN</td>\n",
              "      <td>NaN</td>\n",
              "      <td>1.359865e+07</td>\n",
              "      <td>202205.000000</td>\n",
              "      <td>4.210000e+03</td>\n",
              "      <td>1.000000</td>\n",
              "      <td>4148.510000</td>\n",
              "      <td>6.260000</td>\n",
              "      <td>5.690000</td>\n",
              "      <td>61.800000</td>\n",
              "      <td>3.811500</td>\n",
              "    </tr>\n",
              "    <tr>\n",
              "      <th>50%</th>\n",
              "      <td>226951.500000</td>\n",
              "      <td>NaN</td>\n",
              "      <td>NaN</td>\n",
              "      <td>NaN</td>\n",
              "      <td>NaN</td>\n",
              "      <td>NaN</td>\n",
              "      <td>NaN</td>\n",
              "      <td>NaN</td>\n",
              "      <td>NaN</td>\n",
              "      <td>1.440046e+07</td>\n",
              "      <td>202206.000000</td>\n",
              "      <td>6.560000e+03</td>\n",
              "      <td>1.010000</td>\n",
              "      <td>5851.490000</td>\n",
              "      <td>6.530000</td>\n",
              "      <td>6.380000</td>\n",
              "      <td>63.000000</td>\n",
              "      <td>3.998400</td>\n",
              "    </tr>\n",
              "    <tr>\n",
              "      <th>75%</th>\n",
              "      <td>339883.250000</td>\n",
              "      <td>NaN</td>\n",
              "      <td>NaN</td>\n",
              "      <td>NaN</td>\n",
              "      <td>NaN</td>\n",
              "      <td>NaN</td>\n",
              "      <td>NaN</td>\n",
              "      <td>NaN</td>\n",
              "      <td>NaN</td>\n",
              "      <td>1.483763e+07</td>\n",
              "      <td>202207.000000</td>\n",
              "      <td>1.160000e+04</td>\n",
              "      <td>1.500000</td>\n",
              "      <td>8609.270000</td>\n",
              "      <td>7.660000</td>\n",
              "      <td>6.820000</td>\n",
              "      <td>66.000000</td>\n",
              "      <td>4.322545</td>\n",
              "    </tr>\n",
              "    <tr>\n",
              "      <th>max</th>\n",
              "      <td>453631.000000</td>\n",
              "      <td>NaN</td>\n",
              "      <td>NaN</td>\n",
              "      <td>NaN</td>\n",
              "      <td>NaN</td>\n",
              "      <td>NaN</td>\n",
              "      <td>NaN</td>\n",
              "      <td>NaN</td>\n",
              "      <td>NaN</td>\n",
              "      <td>1.541851e+07</td>\n",
              "      <td>202207.000000</td>\n",
              "      <td>2.380380e+06</td>\n",
              "      <td>21.170000</td>\n",
              "      <td>955000.000000</td>\n",
              "      <td>21.880000</td>\n",
              "      <td>18.050000</td>\n",
              "      <td>78.000000</td>\n",
              "      <td>10.739750</td>\n",
              "    </tr>\n",
              "  </tbody>\n",
              "</table>\n",
              "</div>\n",
              "    <div class=\"colab-df-buttons\">\n",
              "\n",
              "  <div class=\"colab-df-container\">\n",
              "    <button class=\"colab-df-convert\" onclick=\"convertToInteractive('df-f6aeefac-bd6a-4980-98f9-629a78e89780')\"\n",
              "            title=\"Convert this dataframe to an interactive table.\"\n",
              "            style=\"display:none;\">\n",
              "\n",
              "  <svg xmlns=\"http://www.w3.org/2000/svg\" height=\"24px\" viewBox=\"0 -960 960 960\">\n",
              "    <path d=\"M120-120v-720h720v720H120Zm60-500h600v-160H180v160Zm220 220h160v-160H400v160Zm0 220h160v-160H400v160ZM180-400h160v-160H180v160Zm440 0h160v-160H620v160ZM180-180h160v-160H180v160Zm440 0h160v-160H620v160Z\"/>\n",
              "  </svg>\n",
              "    </button>\n",
              "\n",
              "  <style>\n",
              "    .colab-df-container {\n",
              "      display:flex;\n",
              "      gap: 12px;\n",
              "    }\n",
              "\n",
              "    .colab-df-convert {\n",
              "      background-color: #E8F0FE;\n",
              "      border: none;\n",
              "      border-radius: 50%;\n",
              "      cursor: pointer;\n",
              "      display: none;\n",
              "      fill: #1967D2;\n",
              "      height: 32px;\n",
              "      padding: 0 0 0 0;\n",
              "      width: 32px;\n",
              "    }\n",
              "\n",
              "    .colab-df-convert:hover {\n",
              "      background-color: #E2EBFA;\n",
              "      box-shadow: 0px 1px 2px rgba(60, 64, 67, 0.3), 0px 1px 3px 1px rgba(60, 64, 67, 0.15);\n",
              "      fill: #174EA6;\n",
              "    }\n",
              "\n",
              "    .colab-df-buttons div {\n",
              "      margin-bottom: 4px;\n",
              "    }\n",
              "\n",
              "    [theme=dark] .colab-df-convert {\n",
              "      background-color: #3B4455;\n",
              "      fill: #D2E3FC;\n",
              "    }\n",
              "\n",
              "    [theme=dark] .colab-df-convert:hover {\n",
              "      background-color: #434B5C;\n",
              "      box-shadow: 0px 1px 3px 1px rgba(0, 0, 0, 0.15);\n",
              "      filter: drop-shadow(0px 1px 2px rgba(0, 0, 0, 0.3));\n",
              "      fill: #FFFFFF;\n",
              "    }\n",
              "  </style>\n",
              "\n",
              "    <script>\n",
              "      const buttonEl =\n",
              "        document.querySelector('#df-f6aeefac-bd6a-4980-98f9-629a78e89780 button.colab-df-convert');\n",
              "      buttonEl.style.display =\n",
              "        google.colab.kernel.accessAllowed ? 'block' : 'none';\n",
              "\n",
              "      async function convertToInteractive(key) {\n",
              "        const element = document.querySelector('#df-f6aeefac-bd6a-4980-98f9-629a78e89780');\n",
              "        const dataTable =\n",
              "          await google.colab.kernel.invokeFunction('convertToInteractive',\n",
              "                                                    [key], {});\n",
              "        if (!dataTable) return;\n",
              "\n",
              "        const docLinkHtml = 'Like what you see? Visit the ' +\n",
              "          '<a target=\"_blank\" href=https://colab.research.google.com/notebooks/data_table.ipynb>data table notebook</a>'\n",
              "          + ' to learn more about interactive tables.';\n",
              "        element.innerHTML = '';\n",
              "        dataTable['output_type'] = 'display_data';\n",
              "        await google.colab.output.renderOutput(dataTable, element);\n",
              "        const docLink = document.createElement('div');\n",
              "        docLink.innerHTML = docLinkHtml;\n",
              "        element.appendChild(docLink);\n",
              "      }\n",
              "    </script>\n",
              "  </div>\n",
              "\n",
              "\n",
              "<div id=\"df-0447f49c-1593-4656-9434-1204b9cb9cfe\">\n",
              "  <button class=\"colab-df-quickchart\" onclick=\"quickchart('df-0447f49c-1593-4656-9434-1204b9cb9cfe')\"\n",
              "            title=\"Suggest charts.\"\n",
              "            style=\"display:none;\">\n",
              "\n",
              "<svg xmlns=\"http://www.w3.org/2000/svg\" height=\"24px\"viewBox=\"0 0 24 24\"\n",
              "     width=\"24px\">\n",
              "    <g>\n",
              "        <path d=\"M19 3H5c-1.1 0-2 .9-2 2v14c0 1.1.9 2 2 2h14c1.1 0 2-.9 2-2V5c0-1.1-.9-2-2-2zM9 17H7v-7h2v7zm4 0h-2V7h2v10zm4 0h-2v-4h2v4z\"/>\n",
              "    </g>\n",
              "</svg>\n",
              "  </button>\n",
              "\n",
              "<style>\n",
              "  .colab-df-quickchart {\n",
              "      --bg-color: #E8F0FE;\n",
              "      --fill-color: #1967D2;\n",
              "      --hover-bg-color: #E2EBFA;\n",
              "      --hover-fill-color: #174EA6;\n",
              "      --disabled-fill-color: #AAA;\n",
              "      --disabled-bg-color: #DDD;\n",
              "  }\n",
              "\n",
              "  [theme=dark] .colab-df-quickchart {\n",
              "      --bg-color: #3B4455;\n",
              "      --fill-color: #D2E3FC;\n",
              "      --hover-bg-color: #434B5C;\n",
              "      --hover-fill-color: #FFFFFF;\n",
              "      --disabled-bg-color: #3B4455;\n",
              "      --disabled-fill-color: #666;\n",
              "  }\n",
              "\n",
              "  .colab-df-quickchart {\n",
              "    background-color: var(--bg-color);\n",
              "    border: none;\n",
              "    border-radius: 50%;\n",
              "    cursor: pointer;\n",
              "    display: none;\n",
              "    fill: var(--fill-color);\n",
              "    height: 32px;\n",
              "    padding: 0;\n",
              "    width: 32px;\n",
              "  }\n",
              "\n",
              "  .colab-df-quickchart:hover {\n",
              "    background-color: var(--hover-bg-color);\n",
              "    box-shadow: 0 1px 2px rgba(60, 64, 67, 0.3), 0 1px 3px 1px rgba(60, 64, 67, 0.15);\n",
              "    fill: var(--button-hover-fill-color);\n",
              "  }\n",
              "\n",
              "  .colab-df-quickchart-complete:disabled,\n",
              "  .colab-df-quickchart-complete:disabled:hover {\n",
              "    background-color: var(--disabled-bg-color);\n",
              "    fill: var(--disabled-fill-color);\n",
              "    box-shadow: none;\n",
              "  }\n",
              "\n",
              "  .colab-df-spinner {\n",
              "    border: 2px solid var(--fill-color);\n",
              "    border-color: transparent;\n",
              "    border-bottom-color: var(--fill-color);\n",
              "    animation:\n",
              "      spin 1s steps(1) infinite;\n",
              "  }\n",
              "\n",
              "  @keyframes spin {\n",
              "    0% {\n",
              "      border-color: transparent;\n",
              "      border-bottom-color: var(--fill-color);\n",
              "      border-left-color: var(--fill-color);\n",
              "    }\n",
              "    20% {\n",
              "      border-color: transparent;\n",
              "      border-left-color: var(--fill-color);\n",
              "      border-top-color: var(--fill-color);\n",
              "    }\n",
              "    30% {\n",
              "      border-color: transparent;\n",
              "      border-left-color: var(--fill-color);\n",
              "      border-top-color: var(--fill-color);\n",
              "      border-right-color: var(--fill-color);\n",
              "    }\n",
              "    40% {\n",
              "      border-color: transparent;\n",
              "      border-right-color: var(--fill-color);\n",
              "      border-top-color: var(--fill-color);\n",
              "    }\n",
              "    60% {\n",
              "      border-color: transparent;\n",
              "      border-right-color: var(--fill-color);\n",
              "    }\n",
              "    80% {\n",
              "      border-color: transparent;\n",
              "      border-right-color: var(--fill-color);\n",
              "      border-bottom-color: var(--fill-color);\n",
              "    }\n",
              "    90% {\n",
              "      border-color: transparent;\n",
              "      border-bottom-color: var(--fill-color);\n",
              "    }\n",
              "  }\n",
              "</style>\n",
              "\n",
              "  <script>\n",
              "    async function quickchart(key) {\n",
              "      const quickchartButtonEl =\n",
              "        document.querySelector('#' + key + ' button');\n",
              "      quickchartButtonEl.disabled = true;  // To prevent multiple clicks.\n",
              "      quickchartButtonEl.classList.add('colab-df-spinner');\n",
              "      try {\n",
              "        const charts = await google.colab.kernel.invokeFunction(\n",
              "            'suggestCharts', [key], {});\n",
              "      } catch (error) {\n",
              "        console.error('Error during call to suggestCharts:', error);\n",
              "      }\n",
              "      quickchartButtonEl.classList.remove('colab-df-spinner');\n",
              "      quickchartButtonEl.classList.add('colab-df-quickchart-complete');\n",
              "    }\n",
              "    (() => {\n",
              "      let quickchartButtonEl =\n",
              "        document.querySelector('#df-0447f49c-1593-4656-9434-1204b9cb9cfe button');\n",
              "      quickchartButtonEl.style.display =\n",
              "        google.colab.kernel.accessAllowed ? 'block' : 'none';\n",
              "    })();\n",
              "  </script>\n",
              "</div>\n",
              "    </div>\n",
              "  </div>\n"
            ]
          },
          "metadata": {},
          "execution_count": 13
        }
      ]
    },
    {
      "cell_type": "markdown",
      "source": [
        "Очевидно, что признак platform можно не включать в дальнейший анализ, так как во всех строках датасета он принимает одно и тоже значение \"jamesallen\". Также исключим из анализа непоименнованный признак (столбец \"Unnamed: 0\") в связи с отсутствием описания признака."
      ],
      "metadata": {
        "id": "2cA5Y_hgUK3O"
      }
    },
    {
      "cell_type": "code",
      "source": [
        "del df['platform']\n",
        "del df['Unnamed: 0']"
      ],
      "metadata": {
        "id": "Kpn7fqWbVgaJ"
      },
      "execution_count": null,
      "outputs": []
    },
    {
      "cell_type": "markdown",
      "source": [
        "# Нетипичные данные (выбросы)"
      ],
      "metadata": {
        "id": "23sJI3JywCJk"
      }
    },
    {
      "cell_type": "markdown",
      "source": [
        "Для определения выбросов для численных признаков построим гистограмму"
      ],
      "metadata": {
        "id": "IV0V_-nlYd5P"
      }
    },
    {
      "cell_type": "code",
      "source": [
        "df[['price','carat', 'price_per_carat']].hist(bins=100)"
      ],
      "metadata": {
        "colab": {
          "base_uri": "https://localhost:8080/",
          "height": 539
        },
        "id": "bo3q20QRtQ8u",
        "outputId": "be0a8d87-a67b-4b7c-c2e2-036f33ba5946"
      },
      "execution_count": null,
      "outputs": [
        {
          "output_type": "execute_result",
          "data": {
            "text/plain": [
              "array([[<Axes: title={'center': 'price'}>,\n",
              "        <Axes: title={'center': 'carat'}>],\n",
              "       [<Axes: title={'center': 'price_per_carat'}>, <Axes: >]],\n",
              "      dtype=object)"
            ]
          },
          "metadata": {},
          "execution_count": 26
        },
        {
          "output_type": "display_data",
          "data": {
            "text/plain": [
              "<Figure size 640x480 with 4 Axes>"
            ],
            "image/png": "[encoded data removed]"
          },
          "metadata": {}
        }
      ]
    },
    {
      "cell_type": "code",
      "source": [
        "df[['z',\t'x',\t'depth_perc', 'y']].hist(bins=100)"
      ],
      "metadata": {
        "colab": {
          "base_uri": "https://localhost:8080/",
          "height": 504
        },
        "id": "rcf7lKapG5tk",
        "outputId": "78b10ec8-43cc-4575-fc61-7ff9a2255a7b"
      },
      "execution_count": null,
      "outputs": [
        {
          "output_type": "execute_result",
          "data": {
            "text/plain": [
              "array([[<Axes: title={'center': 'z'}>, <Axes: title={'center': 'x'}>],\n",
              "       [<Axes: title={'center': 'depth_perc'}>,\n",
              "        <Axes: title={'center': 'y'}>]], dtype=object)"
            ]
          },
          "metadata": {},
          "execution_count": 27
        },
        {
          "output_type": "display_data",
          "data": {
            "text/plain": [
              "<Figure size 640x480 with 4 Axes>"
            ],
            "image/png": "[encoded data removed]"
          },
          "metadata": {}
        }
      ]
    },
    {
      "cell_type": "markdown",
      "source": [
        "Из-за возможных выбросов данные выглядят сильно искаженными. Построим коробчатую диаграмму для более глубокого анализа"
      ],
      "metadata": {
        "id": "jidSIOIk1KIn"
      }
    },
    {
      "cell_type": "code",
      "source": [
        "df.boxplot(column=['price','carat', 'price_per_carat', 'z',\t'x',\t'depth_perc', 'y'])"
      ],
      "metadata": {
        "colab": {
          "base_uri": "https://localhost:8080/",
          "height": 462
        },
        "id": "VXMiXAgE05xl",
        "outputId": "d915b398-1088-4b53-b2cd-f192f85058b0"
      },
      "execution_count": null,
      "outputs": [
        {
          "output_type": "execute_result",
          "data": {
            "text/plain": [
              "<Axes: >"
            ]
          },
          "metadata": {},
          "execution_count": 31
        },
        {
          "output_type": "display_data",
          "data": {
            "text/plain": [
              "<Figure size 640x480 with 1 Axes>"
            ],
            "image/png": "[encoded data removed]"
          },
          "metadata": {}
        }
      ]
    },
    {
      "cell_type": "code",
      "source": [
        "q1,q9= df[\"price\"].quantile([0.1,0.9])\n",
        "mask=df[\"price\"].between(q1,q9)\n",
        "sns.boxplot(x=\"price_per_carat\",y=\"price\", data=df[mask])\n",
        "\n"
      ],
      "metadata": {
        "colab": {
          "base_uri": "https://localhost:8080/",
          "height": 227
        },
        "id": "uzzUNZEGK9DA",
        "outputId": "ec6d138e-5e9c-45ef-c29b-302dcd8d55a1"
      },
      "execution_count": null,
      "outputs": [
        {
          "output_type": "error",
          "ename": "NameError",
          "evalue": "ignored",
          "traceback": [
            "\u001b[0;31m---------------------------------------------------------------------------\u001b[0m",
            "\u001b[0;31mNameError\u001b[0m                                 Traceback (most recent call last)",
            "\u001b[0;32m<ipython-input-1-bba33559c389>\u001b[0m in \u001b[0;36m<cell line: 1>\u001b[0;34m()\u001b[0m\n\u001b[0;32m----> 1\u001b[0;31m \u001b[0mq1\u001b[0m\u001b[0;34m,\u001b[0m\u001b[0mq9\u001b[0m\u001b[0;34m=\u001b[0m \u001b[0mdf\u001b[0m\u001b[0;34m[\u001b[0m\u001b[0;34m\"price\"\u001b[0m\u001b[0;34m]\u001b[0m\u001b[0;34m.\u001b[0m\u001b[0mquantile\u001b[0m\u001b[0;34m(\u001b[0m\u001b[0;34m[\u001b[0m\u001b[0;36m0.1\u001b[0m\u001b[0;34m,\u001b[0m\u001b[0;36m0.9\u001b[0m\u001b[0;34m]\u001b[0m\u001b[0;34m)\u001b[0m\u001b[0;34m\u001b[0m\u001b[0;34m\u001b[0m\u001b[0m\n\u001b[0m\u001b[1;32m      2\u001b[0m \u001b[0mmask\u001b[0m\u001b[0;34m=\u001b[0m\u001b[0mdf\u001b[0m\u001b[0;34m[\u001b[0m\u001b[0;34m\"price\"\u001b[0m\u001b[0;34m]\u001b[0m\u001b[0;34m.\u001b[0m\u001b[0mbetween\u001b[0m\u001b[0;34m(\u001b[0m\u001b[0mq1\u001b[0m\u001b[0;34m,\u001b[0m\u001b[0mq9\u001b[0m\u001b[0;34m)\u001b[0m\u001b[0;34m\u001b[0m\u001b[0;34m\u001b[0m\u001b[0m\n\u001b[1;32m      3\u001b[0m \u001b[0msns\u001b[0m\u001b[0;34m.\u001b[0m\u001b[0mboxplot\u001b[0m\u001b[0;34m(\u001b[0m\u001b[0mx\u001b[0m\u001b[0;34m=\u001b[0m\u001b[0;34m\"price_per_carat\"\u001b[0m\u001b[0;34m,\u001b[0m\u001b[0my\u001b[0m\u001b[0;34m=\u001b[0m\u001b[0;34m\"price\"\u001b[0m\u001b[0;34m,\u001b[0m \u001b[0mdata\u001b[0m\u001b[0;34m=\u001b[0m\u001b[0mdf\u001b[0m\u001b[0;34m[\u001b[0m\u001b[0mmask\u001b[0m\u001b[0;34m]\u001b[0m\u001b[0;34m)\u001b[0m\u001b[0;34m\u001b[0m\u001b[0;34m\u001b[0m\u001b[0m\n\u001b[1;32m      4\u001b[0m \u001b[0;34m\u001b[0m\u001b[0m\n",
            "\u001b[0;31mNameError\u001b[0m: name 'df' is not defined"
          ]
        }
      ]
    },
    {
      "cell_type": "code",
      "source": [
        "df.boxplot(column=['carat',  'z',\t'x',\t'depth_perc', 'y'])"
      ],
      "metadata": {
        "colab": {
          "base_uri": "https://localhost:8080/",
          "height": 447
        },
        "id": "Vq_9VeudHX_V",
        "outputId": "969ba114-3aa4-47a4-b39d-6645cc0f99cb"
      },
      "execution_count": null,
      "outputs": [
        {
          "output_type": "execute_result",
          "data": {
            "text/plain": [
              "<Axes: >"
            ]
          },
          "metadata": {},
          "execution_count": 32
        },
        {
          "output_type": "display_data",
          "data": {
            "text/plain": [
              "<Figure size 640x480 with 1 Axes>"
            ],
            "image/png": "[encoded data removed]"
          },
          "metadata": {}
        }
      ]
    },
    {
      "cell_type": "code",
      "source": [
        "df.boxplot(column=['depth_perc'])"
      ],
      "metadata": {
        "colab": {
          "base_uri": "https://localhost:8080/",
          "height": 447
        },
        "id": "gmYb06xQHfSV",
        "outputId": "dbf834e0-cb83-418c-bba2-b36fb7a18fe2"
      },
      "execution_count": null,
      "outputs": [
        {
          "output_type": "execute_result",
          "data": {
            "text/plain": [
              "<Axes: >"
            ]
          },
          "metadata": {},
          "execution_count": 33
        },
        {
          "output_type": "display_data",
          "data": {
            "text/plain": [
              "<Figure size 640x480 with 1 Axes>"
            ],
            "image/png": "[encoded data removed]"
          },
          "metadata": {}
        }
      ]
    },
    {
      "cell_type": "markdown",
      "source": [
        "Видим, что есть выбросы со значением более 2**10*^6."
      ],
      "metadata": {
        "id": "p0fkE-gx1x3P"
      }
    },
    {
      "cell_type": "markdown",
      "source": [
        "Описательная статистика"
      ],
      "metadata": {
        "id": "UfYg7g5tGIcC"
      }
    },
    {
      "cell_type": "markdown",
      "source": [
        "Проанализируем описательную статистику данного признака\n",
        "\n",
        "Например, для признака price видно, что максимальное значение равно 2.38 \\* 10*^6\t, в то время как 75% квартиль равен только 1.16 *10*^4. Значения price более 2**10*^6\n",
        " – выброс."
      ],
      "metadata": {
        "id": "jYutsFBr2ORI"
      }
    },
    {
      "cell_type": "code",
      "source": [],
      "metadata": {
        "id": "YwqiMgk-2NqY"
      },
      "execution_count": null,
      "outputs": []
    },
    {
      "cell_type": "markdown",
      "source": [
        "Оценим число уникальных значений по каждому из признаков"
      ],
      "metadata": {
        "id": "X0n4KLeVTisa"
      }
    },
    {
      "cell_type": "code",
      "source": [
        "df.nunique()"
      ],
      "metadata": {
        "colab": {
          "base_uri": "https://localhost:8080/"
        },
        "id": "pVKftl3YTjLJ",
        "outputId": "96e39cda-d6f4-48c0-c462-bd7fa5084c72"
      },
      "execution_count": null,
      "outputs": [
        {
          "output_type": "execute_result",
          "data": {
            "text/plain": [
              "fluor                   3\n",
              "symmetry                4\n",
              "shape                  10\n",
              "color                  10\n",
              "clarity                 9\n",
              "cut                     3\n",
              "polish                  3\n",
              "id                 162277\n",
              "date                    3\n",
              "price                8436\n",
              "carat                 631\n",
              "price_per_carat     52604\n",
              "z                    1115\n",
              "x                     903\n",
              "depth_perc            317\n",
              "y                   37649\n",
              "dtype: int64"
            ]
          },
          "metadata": {},
          "execution_count": 17
        }
      ]
    },
    {
      "cell_type": "code",
      "source": [
        "df['fluor'].unique()"
      ],
      "metadata": {
        "id": "C1BNVEAqcEsl",
        "colab": {
          "base_uri": "https://localhost:8080/"
        },
        "outputId": "c4548647-bb56-469d-91fb-d194fed01e8f"
      },
      "execution_count": null,
      "outputs": [
        {
          "output_type": "execute_result",
          "data": {
            "text/plain": [
              "array([nan, 'MED', 'FNT', 'STG'], dtype=object)"
            ]
          },
          "metadata": {},
          "execution_count": 18
        }
      ]
    },
    {
      "cell_type": "code",
      "source": [
        "df['symmetry'].unique()"
      ],
      "metadata": {
        "id": "ZBWbC96hcGcd",
        "colab": {
          "base_uri": "https://localhost:8080/"
        },
        "outputId": "6eb29ec2-74f5-4225-c3fb-aa4bfb8d1c88"
      },
      "execution_count": null,
      "outputs": [
        {
          "output_type": "execute_result",
          "data": {
            "text/plain": [
              "array(['EX', 'VG', 'G', 'No'], dtype=object)"
            ]
          },
          "metadata": {},
          "execution_count": 19
        }
      ]
    },
    {
      "cell_type": "code",
      "source": [
        "df['shape'].unique()"
      ],
      "metadata": {
        "id": "B1jAD2CycaEu"
      },
      "execution_count": null,
      "outputs": []
    },
    {
      "cell_type": "code",
      "source": [
        "df['color'].unique()"
      ],
      "metadata": {
        "id": "lK8dA6uBcd4H"
      },
      "execution_count": null,
      "outputs": []
    },
    {
      "cell_type": "code",
      "source": [
        "df['clarity'].unique()"
      ],
      "metadata": {
        "id": "OYpwRpnYckfw"
      },
      "execution_count": null,
      "outputs": []
    },
    {
      "cell_type": "code",
      "source": [
        "df['cut'].unique()"
      ],
      "metadata": {
        "id": "1QpHnVk9cqQn"
      },
      "execution_count": null,
      "outputs": []
    },
    {
      "cell_type": "code",
      "source": [
        "df['polish'].unique()"
      ],
      "metadata": {
        "id": "Fy3kU2XZct4X"
      },
      "execution_count": null,
      "outputs": []
    },
    {
      "cell_type": "code",
      "source": [
        "df['date'].unique()"
      ],
      "metadata": {
        "id": "GuGsUzDnczow"
      },
      "execution_count": null,
      "outputs": []
    },
    {
      "cell_type": "code",
      "source": [],
      "metadata": {
        "id": "RGm17w0pSpSp"
      },
      "execution_count": null,
      "outputs": []
    },
    {
      "cell_type": "code",
      "source": [],
      "metadata": {
        "id": "nC0HHuPHW2lu"
      },
      "execution_count": null,
      "outputs": []
    },
    {
      "cell_type": "markdown",
      "source": [
        "Отбрасывание записей"
      ],
      "metadata": {
        "id": "ASgVh8a0rnYo"
      }
    },
    {
      "cell_type": "code",
      "source": [],
      "metadata": {
        "id": "AArXCdrR34sx"
      },
      "execution_count": null,
      "outputs": []
    },
    {
      "cell_type": "code",
      "source": [
        "df.groupby(df['fluor'].isnull()).mean().value_counts(normalize=True)"
      ],
      "metadata": {
        "id": "2vkglIALsvM3"
      },
      "execution_count": null,
      "outputs": []
    },
    {
      "cell_type": "code",
      "source": [
        "df.groupby(df['fluor'].isnull()).std().value_counts(normalize=True)"
      ],
      "metadata": {
        "id": "QQh7GLdi3b8v"
      },
      "execution_count": null,
      "outputs": []
    },
    {
      "cell_type": "code",
      "source": [
        "df.groupby(df['fluor'].isnull())['price_per_carat'].value_counts(normalize=True)"
      ],
      "metadata": {
        "id": "HSl5TkBKtAnm"
      },
      "execution_count": null,
      "outputs": []
    },
    {
      "cell_type": "markdown",
      "source": [
        "Задание 1: Очистка (2 балла)\n",
        "Не все камни успевают продаться за один месяц, поэтому в таблице есть повторы. Объедините данные по одному камню: подумайте, как лучше это сделать, какую цену брать.\n",
        "\n",
        "Попробуйте найти аномалии: вдруг цена на некоторые камни сильно меняется (то есть продавец сам не знает, по какой цене их продавать). Также убедитесь, что остальные параметры камня не меняются."
      ],
      "metadata": {
        "id": "AI3g26vLNpxr"
      }
    },
    {
      "cell_type": "code",
      "source": [
        "df['Counts_id'] = df['id'].map(df['id'].value_counts())\n",
        "df_three = df.loc[df['Counts_id'] > 1]\n",
        "df_three.shape"
      ],
      "metadata": {
        "id": "uOaAzg6AYPl2"
      },
      "execution_count": null,
      "outputs": []
    },
    {
      "cell_type": "code",
      "source": [],
      "metadata": {
        "id": "-0mlPzTBYQXU"
      },
      "execution_count": null,
      "outputs": []
    },
    {
      "cell_type": "code",
      "source": [
        "id_stat = df.groupby(by='id')['carat'].count().to_frame() #Посчитайте статистику по кол-ву камней\n",
        "\n",
        "# разделите выборку на две части\n",
        "\n",
        "#df_one = df.query('...') # те драгоценные камни, которые встсретились 1 раз\n",
        "#df_three = df.query('...') # те драгоценные камни, которые встсретились 2-3 раза\n",
        "\n",
        "stat = df_three.groupby('id')['...'].agg(np.std) # Посчитайте дстандартное отклонение по нескольким полям,\n",
        "# подумайте где оно должно равняться 0, а где меняться в каких-то разумных пределах\n",
        "\n",
        "# Удалите аномальные наблюдения\n",
        "df_three = df_three.query('...').sort_values(by=['id','date'])\n",
        "\n",
        "df_three = df_three.groupby('...').agg('l...').reset_index() # тепреь в качестве цены возьмем последнее значение по времени\n",
        "\n",
        "df = pd.concat([df_one, df_three]).reset_index(drop=True) # соединяем результаты"
      ],
      "metadata": {
        "id": "BN667suONxYb"
      },
      "execution_count": null,
      "outputs": []
    }
  ]
}